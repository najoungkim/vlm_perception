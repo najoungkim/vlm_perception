{
 "cells": [
  {
   "cell_type": "code",
   "execution_count": 49,
   "id": "ba663699",
   "metadata": {},
   "outputs": [
    {
     "name": "stdout",
     "output_type": "stream",
     "text": [
      "Requirement already satisfied: drawsvg~=2.0 in /home/cookie/miniconda3/lib/python3.10/site-packages (2.4.0)\n",
      "Note: you may need to restart the kernel to use updated packages.\n"
     ]
    }
   ],
   "source": [
    "%pip install \"drawsvg~=2.0\"\n",
    "\n",
    "import csv\n",
    "import itertools\n",
    "import random\n",
    "import os\n",
    "import drawsvg as dw"
   ]
  },
  {
   "cell_type": "markdown",
   "id": "da821617",
   "metadata": {},
   "source": [
    "## Define sampling params here"
   ]
  },
  {
   "cell_type": "code",
   "execution_count": 50,
   "id": "64329e0b",
   "metadata": {},
   "outputs": [],
   "source": [
    "sample_size = 50\n",
    "angle_variation_max = 20 # Pixel value, not degrees\n",
    "fixed_vars = [\"line_color\"]\n",
    "\n",
    "w, h = 600, 600\n",
    "\n",
    "save_path = \"../jnd_images_svg/angle\"\n",
    "os.makedirs(save_path, exist_ok=True)"
   ]
  },
  {
   "cell_type": "markdown",
   "id": "b3b2670e",
   "metadata": {},
   "source": [
    "## Define hyperparam space"
   ]
  },
  {
   "cell_type": "code",
   "execution_count": 51,
   "id": "bb73c402",
   "metadata": {},
   "outputs": [
    {
     "name": "stdout",
     "output_type": "stream",
     "text": [
      "['line_thickness', 'line_location', 'line_dist', 'reference_angle', 'reference_line_length']\n",
      "243\n",
      "3\n"
     ]
    }
   ],
   "source": [
    "hparam_dict = {\n",
    "    \"line_color\": [\"red\", \"green\", \"blue\"],\n",
    "    \"line_thickness\": range(1, 4),\n",
    "    \"line_location\": [0.25, 0.5, 0.75],\n",
    "    \"line_dist\": [0.1, 0.2, 0.3],\n",
    "    \"reference_angle\": [0, 10, 20],   # note that this doesn't correspond to geometric angles but 1px distance\n",
    "    \"reference_line_length\": [50, 100, 150],\n",
    "}\n",
    "\n",
    "selected_hparams = [key for key in hparam_dict if key not in fixed_vars]\n",
    "selected_hparam_vals = [hparam_dict[key] for key in selected_hparams]\n",
    "fixed_hparam_vals = [hparam_dict[key] for key in fixed_vars]\n",
    "print(selected_hparams)\n",
    "\n",
    "all_hparams = list(itertools.product(*selected_hparam_vals))\n",
    "fixed_hparams_exhaustive = list(itertools.product(*fixed_hparam_vals))\n",
    "\n",
    "print(len(all_hparams))\n",
    "print(len(fixed_hparams_exhaustive))"
   ]
  },
  {
   "cell_type": "markdown",
   "id": "98091a8c",
   "metadata": {},
   "source": [
    "## Sample"
   ]
  },
  {
   "cell_type": "code",
   "execution_count": 52,
   "id": "b6ca79c5",
   "metadata": {},
   "outputs": [],
   "source": [
    "random_hparam_configs = random.choices(all_hparams, k=sample_size)"
   ]
  },
  {
   "cell_type": "markdown",
   "id": "d3874d8d",
   "metadata": {},
   "source": [
    "## Generate & save"
   ]
  },
  {
   "cell_type": "code",
   "execution_count": 54,
   "id": "bed0edd6",
   "metadata": {},
   "outputs": [
    {
     "name": "stdout",
     "output_type": "stream",
     "text": [
      "3000\n",
      "0\n"
     ]
    }
   ],
   "source": [
    "oob_count = 0\n",
    "total_count = 0\n",
    "param_d_list = []\n",
    "\n",
    "# Iterate over randomly selected hparam configurations minus the fixed hparam\n",
    "for i, config in enumerate(random_hparam_configs):\n",
    "    config_d = dict(zip(selected_hparams, config))\n",
    "    \n",
    "    # Iterate over all values of a fixed variable\n",
    "    for j, fixed_config in enumerate(fixed_hparams_exhaustive):\n",
    "        config_d.update(dict(zip(fixed_vars, fixed_config)))\n",
    "        \n",
    "        # Iterate over target manipulation (angle)\n",
    "        for k, angle in enumerate(range(0, angle_variation_max)):\n",
    "            location = config_d[\"line_location\"]\n",
    "            ref_len = config_d[\"reference_line_length\"]\n",
    "            ref_angle = config_d[\"reference_angle\"]\n",
    "            line_dist = config_d[\"line_dist\"]\n",
    "            color = config_d[\"line_color\"]\n",
    "            thickness = config_d[\"line_thickness\"]\n",
    "            \n",
    "            ref_x1, ref_y1 = w*location, h*location\n",
    "            ref_x2, ref_y2 = w*location+ref_len, h*location+ref_angle\n",
    "\n",
    "            x1, y1 = w*location, h*(location+line_dist)\n",
    "            x2, y2 = w*location + ref_len, h*(location+line_dist)+ref_angle+angle\n",
    "\n",
    "            # Count cases where lines go out of bounds\n",
    "            total_count += 1\n",
    "            if ref_x1 > w or ref_x2 > w or ref_y1 > h or ref_y2 > h:\n",
    "                print(ref_x1, ref_x2, ref_y1, ref_y2)\n",
    "                oob_count += 1\n",
    "                continue\n",
    "\n",
    "            d = dw.Drawing(\n",
    "                w, h, origin=(0, 0),\n",
    "                context=None,\n",
    "                animation_config=None,\n",
    "                id_prefix='d'\n",
    "            )\n",
    "            line = dw.Line(\n",
    "                ref_x1, ref_y1,\n",
    "                ref_x2, ref_y2,\n",
    "                stroke=color,\n",
    "                stroke_width=thickness\n",
    "            )\n",
    "            line2 = dw.Line(\n",
    "                x1, y1,\n",
    "                x2, y2,\n",
    "                stroke=color,\n",
    "                stroke_width=thickness\n",
    "            )\n",
    "            d.append(line)\n",
    "            d.append(line2)\n",
    "\n",
    "#             display(d)\n",
    "            idx = f\"{i}_{j}_{k}\"\n",
    "            filename = f\"{idx}.svg\"\n",
    "            d.save_svg(os.path.join(save_path, filename))\n",
    "        \n",
    "            param_d = {\n",
    "                \"idx\": idx,\n",
    "                \"filename\": filename,\n",
    "                \"l1_x1\": ref_x1,\n",
    "                \"l1_y1\": ref_y1,\n",
    "                \"l1_x2\": ref_x2,\n",
    "                \"l1_y2\": ref_y2,\n",
    "                \"l2_x1\": x1,\n",
    "                \"l2_y1\": y1,\n",
    "                \"l2_x2\": x2,\n",
    "                \"l2_y2\": y2,\n",
    "                \"line_color\": color,\n",
    "                \"line_thickness\": thickness,\n",
    "                \"line_location\": location,\n",
    "                \"line_dist\": line_dist,\n",
    "                \"reference_angle\": ref_angle,\n",
    "                \"reference_line_length\": ref_len,\n",
    "                \"pixel_diff_y\": angle\n",
    "            }\n",
    "\n",
    "            param_d_list.append(param_d)\n",
    "\n",
    "print(\"Total # images: \", total_count)\n",
    "print(\"Total out of bound images: \", oob_count)"
   ]
  },
  {
   "cell_type": "markdown",
   "id": "53e7dd01",
   "metadata": {},
   "source": [
    "## Save metadata"
   ]
  },
  {
   "cell_type": "code",
   "execution_count": 56,
   "id": "81c97239",
   "metadata": {},
   "outputs": [
    {
     "name": "stdout",
     "output_type": "stream",
     "text": [
      "{'idx': '49_2_19', 'filename': '49_2_19.svg', 'l1_x1': 150.0, 'l1_y1': 150.0, 'l1_x2': 250.0, 'l1_y2': 160.0, 'l2_x1': 150.0, 'l2_y1': 330.0, 'l2_x2': 250.0, 'l2_y2': 359.0, 'line_color': 'blue', 'line_thickness': 3, 'line_location': 0.25, 'line_dist': 0.3, 'reference_angle': 10, 'reference_line_length': 100, 'pixel_diff_y': 19}\n"
     ]
    }
   ],
   "source": [
    "print(param_d_list[-1])\n",
    "\n",
    "with open(os.path.join(save_path, \"angle_jnd_images_svg.csv\"), 'w') as wf:\n",
    "    writer = csv.DictWriter(wf, fieldnames=param_d_list[-1].keys())\n",
    "    writer.writeheader()\n",
    "    for d in param_d_list:\n",
    "        writer.writerow(d)"
   ]
  }
 ],
 "metadata": {
  "kernelspec": {
   "display_name": "Python 3 (ipykernel)",
   "language": "python",
   "name": "python3"
  },
  "language_info": {
   "codemirror_mode": {
    "name": "ipython",
    "version": 3
   },
   "file_extension": ".py",
   "mimetype": "text/x-python",
   "name": "python",
   "nbconvert_exporter": "python",
   "pygments_lexer": "ipython3",
   "version": "3.10.9"
  }
 },
 "nbformat": 4,
 "nbformat_minor": 5
}
