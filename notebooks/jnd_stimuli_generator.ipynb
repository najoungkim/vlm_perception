{
 "cells": [
  {
   "cell_type": "code",
   "execution_count": null,
   "id": "ba663699",
   "metadata": {},
   "outputs": [],
   "source": [
    "%pip install \"drawsvg~=2.0\"\n",
    "\n",
    "import csv\n",
    "import itertools\n",
    "import random\n",
    "import os\n",
    "import drawsvg as dw\n",
    "import numpy as np"
   ]
  },
  {
   "cell_type": "markdown",
   "id": "da821617",
   "metadata": {},
   "source": [
    "## Define sampling params here"
   ]
  },
  {
   "cell_type": "code",
   "execution_count": null,
   "id": "64329e0b",
   "metadata": {},
   "outputs": [],
   "source": [
    "sample_size = 50\n",
    "angle_variation_max = 10\n",
    "fixed_vars = [\"line_color\"]\n",
    "\n",
    "w, h = 600, 600\n",
    "\n",
    "save_path = \"../jnd_images_svg/true_angle\"\n",
    "os.makedirs(save_path, exist_ok=True)"
   ]
  },
  {
   "cell_type": "markdown",
   "id": "b3b2670e",
   "metadata": {},
   "source": [
    "## Define hyperparam space"
   ]
  },
  {
   "cell_type": "code",
   "execution_count": null,
   "id": "bb73c402",
   "metadata": {},
   "outputs": [],
   "source": [
    "hparam_dict = {\n",
    "    \"line_color\": [\"red\", \"green\", \"blue\"],\n",
    "    \"line_thickness\": range(1, 4),\n",
    "    \"line_location\": [0.25, 0.5, 0.75],\n",
    "    \"line_dist\": [0.05, 0.1, 0.2],\n",
    "    \"reference_angle\": [0, 10, 20],\n",
    "    \"reference_line_length\": [50, 100, 150],\n",
    "}\n",
    "\n",
    "selected_hparams = [key for key in hparam_dict if key not in fixed_vars]\n",
    "selected_hparam_vals = [hparam_dict[key] for key in selected_hparams]\n",
    "fixed_hparam_vals = [hparam_dict[key] for key in fixed_vars]\n",
    "print(selected_hparams)\n",
    "\n",
    "all_hparams = list(itertools.product(*selected_hparam_vals))\n",
    "fixed_hparams_exhaustive = list(itertools.product(*fixed_hparam_vals))\n",
    "\n",
    "print(len(all_hparams))\n",
    "print(len(fixed_hparams_exhaustive))"
   ]
  },
  {
   "cell_type": "markdown",
   "id": "98091a8c",
   "metadata": {},
   "source": [
    "## Sample"
   ]
  },
  {
   "cell_type": "code",
   "execution_count": null,
   "id": "b6ca79c5",
   "metadata": {},
   "outputs": [],
   "source": [
    "random_hparam_configs = random.choices(all_hparams, k=sample_size)"
   ]
  },
  {
   "cell_type": "markdown",
   "id": "d3874d8d",
   "metadata": {},
   "source": [
    "## Generate & save"
   ]
  },
  {
   "cell_type": "code",
   "execution_count": null,
   "id": "bed0edd6",
   "metadata": {},
   "outputs": [],
   "source": [
    "oob_count = 0\n",
    "total_count = 0\n",
    "param_d_list = []\n",
    "\n",
    "# Iterate over randomly selected hparam configurations minus the fixed hparam\n",
    "for i, config in enumerate(random_hparam_configs):\n",
    "    config_d = dict(zip(selected_hparams, config))\n",
    "    \n",
    "    # Iterate over all values of a fixed variable\n",
    "    for j, fixed_config in enumerate(fixed_hparams_exhaustive):\n",
    "        config_d.update(dict(zip(fixed_vars, fixed_config)))\n",
    "        \n",
    "        # Iterate over target manipulation (angle)\n",
    "        for k, angle in enumerate(range(0, angle_variation_max)):\n",
    "            location = w*config_d[\"line_location\"]\n",
    "            ref_len = config_d[\"reference_line_length\"]\n",
    "            ref_angle = config_d[\"reference_angle\"]\n",
    "            line_dist = h*config_d[\"line_dist\"]\n",
    "            color = config_d[\"line_color\"]\n",
    "            thickness = config_d[\"line_thickness\"]\n",
    "            \n",
    "            ref_x1, ref_y1 = location-(ref_len/2), location-(line_dist/2)\n",
    "            ref_x2, ref_y2 = location+(ref_len/2), location-(line_dist/2)\n",
    "\n",
    "            x1, y1 = location-(ref_len/2), location+(line_dist/2)\n",
    "            x2, y2 = location+(ref_len/2), location+(line_dist/2)\n",
    "\n",
    "            # Count cases where lines go out of bounds\n",
    "            # Note: with using rotate this doesn't capture all OOB cases\n",
    "            total_count += 1\n",
    "            if ref_x1 > w or ref_x2 > w or ref_y1 > h or y1 > h:\n",
    "                print(ref_x1, ref_x2, ref_y1, y1)\n",
    "                oob_count += 1\n",
    "                continue\n",
    "\n",
    "            d = dw.Drawing(\n",
    "                w, h, origin=(0, 0),\n",
    "                context=None,\n",
    "                animation_config=None,\n",
    "                id_prefix='d'\n",
    "            )\n",
    "            line = dw.Line(\n",
    "                ref_x1, ref_y1,\n",
    "                ref_x2, ref_y2,\n",
    "                stroke=color,\n",
    "                stroke_width=thickness,                \n",
    "                transform=f\"rotate({ref_angle},{ref_x1},{ref_y1})\"\n",
    "            )\n",
    "            line2 = dw.Line(\n",
    "                x1, y1,\n",
    "                x2, y2,\n",
    "                stroke=color,\n",
    "                stroke_width=thickness,\n",
    "                transform=f\"rotate({ref_angle+angle},{x1},{y1})\"\n",
    "            )\n",
    "            d.append(line)\n",
    "            d.append(line2)\n",
    "\n",
    "            display(d)\n",
    "            idx = f\"{i}_{j}_{k}\"\n",
    "            filename = f\"{idx}.svg\"\n",
    "#             d.save_svg(os.path.join(save_path, filename))\n",
    "        \n",
    "            param_d = {\n",
    "                \"idx\": idx,\n",
    "                \"filename\": filename,\n",
    "                \"l1_x1\": ref_x1,\n",
    "                \"l1_y1\": ref_y1,\n",
    "                \"l1_x2\": ref_x2,\n",
    "                \"l1_y2\": ref_y2,\n",
    "                \"l2_x1\": x1,\n",
    "                \"l2_y1\": y1,\n",
    "                \"l2_x2\": x2,\n",
    "                \"l2_y2\": y2,\n",
    "                \"line_color\": color,\n",
    "                \"line_thickness\": thickness,\n",
    "                \"line_location\": location,\n",
    "                \"line_dist\": line_dist,\n",
    "                \"reference_angle\": ref_angle,\n",
    "                \"reference_line_length\": ref_len,\n",
    "                \"pixel_diff_y\": angle\n",
    "            }\n",
    "\n",
    "            param_d_list.append(param_d)\n",
    "\n",
    "print(\"Total # images: \", total_count)\n",
    "print(\"Total out of bound images: \", oob_count)"
   ]
  },
  {
   "cell_type": "markdown",
   "id": "53e7dd01",
   "metadata": {},
   "source": [
    "## Save metadata"
   ]
  },
  {
   "cell_type": "code",
   "execution_count": null,
   "id": "81c97239",
   "metadata": {},
   "outputs": [],
   "source": [
    "print(param_d_list[-1])\n",
    "\n",
    "with open(os.path.join(save_path, \"angle_jnd_images_svg.csv\"), 'w') as wf:\n",
    "    writer = csv.DictWriter(wf, fieldnames=param_d_list[-1].keys())\n",
    "    writer.writeheader()\n",
    "    for d in param_d_list:\n",
    "        writer.writerow(d)"
   ]
  }
 ],
 "metadata": {
  "kernelspec": {
   "display_name": "Python 3 (ipykernel)",
   "language": "python",
   "name": "python3"
  },
  "language_info": {
   "codemirror_mode": {
    "name": "ipython",
    "version": 3
   },
   "file_extension": ".py",
   "mimetype": "text/x-python",
   "name": "python",
   "nbconvert_exporter": "python",
   "pygments_lexer": "ipython3",
   "version": "3.10.9"
  }
 },
 "nbformat": 4,
 "nbformat_minor": 5
}
