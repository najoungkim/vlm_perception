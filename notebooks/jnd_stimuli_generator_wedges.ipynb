{
 "cells": [
  {
   "cell_type": "code",
   "execution_count": null,
   "id": "ba663699",
   "metadata": {},
   "outputs": [],
   "source": [
    "%pip install \"drawsvg~=2.0\"\n",
    "\n",
    "import csv\n",
    "import itertools\n",
    "import math\n",
    "import os\n",
    "import random\n",
    "import drawsvg as dw\n",
    "import numpy as np"
   ]
  },
  {
   "cell_type": "markdown",
   "id": "da821617",
   "metadata": {},
   "source": [
    "## Define sampling params here"
   ]
  },
  {
   "cell_type": "code",
   "execution_count": 3,
   "id": "64329e0b",
   "metadata": {},
   "outputs": [],
   "source": [
    "sample_size = 50\n",
    "angle_variation_max = 20\n",
    "variation_step = 1\n",
    "fixed_vars = [\"ref_angle\"]\n",
    "\n",
    "w, h = 600, 600\n",
    "\n",
    "save_path = \"../jnd_images_svg/wedges_angle\"\n",
    "os.makedirs(save_path, exist_ok=True)"
   ]
  },
  {
   "cell_type": "markdown",
   "id": "b3b2670e",
   "metadata": {},
   "source": [
    "## Define hyperparam space"
   ]
  },
  {
   "cell_type": "code",
   "execution_count": null,
   "id": "bb73c402",
   "metadata": {},
   "outputs": [],
   "source": [
    "hparam_dict = {\n",
    "    \"line_color\": [\"gray\", \"none\"],\n",
    "    \"fill_colors\": list(itertools.permutations([\"red\", \"green\", \"blue\", \"lightblue\"], 2)),\n",
    "    \"line_thickness\": range(1, 4),\n",
    "    \"shape_location\": [0.25, 0.5, 0.75],\n",
    "    \"shape_dist\": [0.05, 0.1, 0.15],\n",
    "    \"reference_radius\": [40, 50, 60],\n",
    "    \"ref_angle\": [30, 60, 90, 120]\n",
    "}\n",
    "\n",
    "selected_hparams = [key for key in hparam_dict if key not in fixed_vars]\n",
    "selected_hparam_vals = [hparam_dict[key] for key in selected_hparams]\n",
    "fixed_hparam_vals = [hparam_dict[key] for key in fixed_vars]\n",
    "print(selected_hparams)\n",
    "\n",
    "all_hparams = list(itertools.product(*selected_hparam_vals))\n",
    "fixed_hparams_exhaustive = list(itertools.product(*fixed_hparam_vals))\n",
    "\n",
    "print(len(all_hparams))\n",
    "print(len(fixed_hparams_exhaustive))"
   ]
  },
  {
   "cell_type": "markdown",
   "id": "98091a8c",
   "metadata": {},
   "source": [
    "## Sample"
   ]
  },
  {
   "cell_type": "code",
   "execution_count": 5,
   "id": "b6ca79c5",
   "metadata": {},
   "outputs": [],
   "source": [
    "random_hparam_configs = random.choices(all_hparams, k=sample_size)"
   ]
  },
  {
   "cell_type": "markdown",
   "id": "d3874d8d",
   "metadata": {},
   "source": [
    "## Generate & save"
   ]
  },
  {
   "cell_type": "code",
   "execution_count": null,
   "id": "bed0edd6",
   "metadata": {},
   "outputs": [],
   "source": [
    "def create_sector(origin_x, origin_y, center_x, center_y, radius, start_angle_deg, end_angle_deg, rotation, **kwargs):\n",
    "    \"\"\"\n",
    "    Creates a drawsvg Path object for a circular sector.\n",
    "    This works for any angle, including those > 180 degrees.\n",
    "    \"\"\"\n",
    "    # Convert angles to radians\n",
    "    start_rad = math.radians(start_angle_deg)\n",
    "    end_rad = math.radians(end_angle_deg)\n",
    "\n",
    "    transform_str = f\"translate({center_x}, {center_y}), rotate({rotation})\"\n",
    "\n",
    "    # Calculate start and end points of the arc\n",
    "    p1_x = origin_x + radius * math.cos(start_rad)\n",
    "    p1_y = origin_y + radius * math.sin(start_rad)\n",
    "    p2_x = origin_x + radius * math.cos(end_rad)\n",
    "    p2_y = origin_y + radius * math.sin(end_rad)\n",
    "\n",
    "    # Determine the large-arc-flag\n",
    "    angle_diff = abs(end_angle_deg - start_angle_deg)\n",
    "    large_arc_flag = 1 if angle_diff > 180 else 0\n",
    "\n",
    "    # Construct the SVG path data string\n",
    "    path_data = (\n",
    "        f\"M {origin_x},{origin_y} \"  # Move to center\n",
    "        f\"L {p1_x},{p1_y} \"          # Line to arc start\n",
    "        f\"A {radius},{radius} 0 {large_arc_flag} 1 {p2_x},{p2_y} \" # Arc to end point\n",
    "        f\"Z\"                         # Close path back to center\n",
    "    )\n",
    "\n",
    "    # Return the Path object\n",
    "    return dw.Path(d=path_data, transform=transform_str, **kwargs)\n",
    "\n",
    "\n",
    "oob_count = 0\n",
    "overlapping_count = 0\n",
    "total_count = 0\n",
    "param_d_list = []\n",
    "\n",
    "# Iterate over randomly selected hparam configurations minus the fixed hparam\n",
    "for i, config in enumerate(random_hparam_configs):\n",
    "    config_d = dict(zip(selected_hparams, config))\n",
    "    \n",
    "    # Iterate over all values of a fixed variable\n",
    "    for j, fixed_config in enumerate(fixed_hparams_exhaustive):\n",
    "        config_d.update(dict(zip(fixed_vars, fixed_config)))\n",
    "        \n",
    "        # Iterate over target manipulation (radius)\n",
    "        for k, angle_diff in enumerate(np.arange(0, angle_variation_max, variation_step)):\n",
    "            location = config_d[\"shape_location\"]\n",
    "            ref_r = config_d[\"reference_radius\"]\n",
    "            shape_dist = config_d[\"shape_dist\"]\n",
    "            line_color = config_d[\"line_color\"]\n",
    "            fill_color_1, fill_color_2 = config_d[\"fill_colors\"]\n",
    "            thickness = config_d[\"line_thickness\"]\n",
    "            ref_angle = config_d[\"ref_angle\"]\n",
    "            \n",
    "            ref_x, ref_y = w*location, h*location\n",
    "            max_ref_x = ref_x+ref_r\n",
    "            max_ref_y = ref_y+ref_r\n",
    "\n",
    "            angle = ref_angle + angle_diff\n",
    "\n",
    "            # Count cases where shapes go out of bounds\n",
    "            total_count += 1\n",
    "            oob = False\n",
    "            if max_ref_x > w or max_ref_y > h:\n",
    "                oob = True\n",
    "                oob_count += 1\n",
    "\n",
    "            d = dw.Drawing(\n",
    "                w, h, origin=(0,0),\n",
    "                context=None,\n",
    "                animation_config=None,\n",
    "                id_prefix='d'\n",
    "            )\n",
    "\n",
    "            sector = create_sector(0, 0, ref_x, ref_y, ref_r, -ref_angle/2, ref_angle/2, 0, fill=fill_color_1)\n",
    "            sector2 = create_sector(0, 0, ref_x, ref_y, ref_r, -angle/2, angle/2, ref_angle, fill=fill_color_2)\n",
    "            d.append(sector)\n",
    "            d.append(sector2)\n",
    "\n",
    "            # Outline circle (or not)\n",
    "            d.append(dw.Circle(ref_x, ref_y, ref_r,\n",
    "                            fill='none', stroke=line_color))\n",
    "\n",
    "            display(d)\n",
    "            idx = f\"{i}_{j}_{angle_diff}\"\n",
    "            filename = f\"{idx}.svg\"\n",
    "            print(filename)\n",
    "            d.save_svg(os.path.join(save_path, filename))\n",
    "        \n",
    "            param_d = {\n",
    "                \"idx\": idx,\n",
    "                \"filename\": filename,\n",
    "                \"ref_x\": ref_x,\n",
    "                \"ref_y\": ref_y,\n",
    "                \"line_color\": line_color,\n",
    "                \"fill_color_1\": fill_color_1,\n",
    "                \"fill_color_2\": fill_color_2,\n",
    "                \"line_thickness\": thickness,\n",
    "                \"shape_location\": location,\n",
    "                \"shape_dist\": shape_dist,\n",
    "                \"reference_radius\": ref_r,\n",
    "                \"angle_diff\": angle_diff,\n",
    "            }\n",
    "\n",
    "            param_d_list.append(param_d)\n",
    "\n",
    "print(\"Total # images: \", total_count)\n",
    "print(\"Total out of bound images: \", oob_count)\n",
    "print(\"Total overlapping: \", overlapping_count)"
   ]
  },
  {
   "cell_type": "markdown",
   "id": "53e7dd01",
   "metadata": {},
   "source": [
    "## Save metadata"
   ]
  },
  {
   "cell_type": "code",
   "execution_count": null,
   "id": "81c97239",
   "metadata": {},
   "outputs": [],
   "source": [
    "print(param_d_list[-1])\n",
    "\n",
    "with open(os.path.join(save_path, \"wedge_size_jnd_images_svg.csv\"), 'w') as wf:\n",
    "    writer = csv.DictWriter(wf, fieldnames=param_d_list[-1].keys())\n",
    "    writer.writeheader()\n",
    "    for d in param_d_list:\n",
    "        writer.writerow(d)"
   ]
  },
  {
   "cell_type": "code",
   "execution_count": null,
   "id": "4305da00",
   "metadata": {},
   "outputs": [],
   "source": []
  }
 ],
 "metadata": {
  "kernelspec": {
   "display_name": "Python 3",
   "language": "python",
   "name": "python3"
  },
  "language_info": {
   "codemirror_mode": {
    "name": "ipython",
    "version": 3
   },
   "file_extension": ".py",
   "mimetype": "text/x-python",
   "name": "python",
   "nbconvert_exporter": "python",
   "pygments_lexer": "ipython3",
   "version": "3.9.23"
  }
 },
 "nbformat": 4,
 "nbformat_minor": 5
}
